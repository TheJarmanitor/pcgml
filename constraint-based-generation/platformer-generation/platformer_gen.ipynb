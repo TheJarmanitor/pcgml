{
 "cells": [
  {
   "cell_type": "markdown",
   "metadata": {},
   "source": [
    "## Constraint-based Platformer Generation\n",
    "\n",
    "this notebook shows a step-by-step guide to do Generate a Platformer level based on previously made ones"
   ]
  },
  {
   "cell_type": "code",
   "execution_count": 2,
   "metadata": {},
   "outputs": [],
   "source": [
    "import cv2\n",
    "import numpy as np\n",
    "import matplotlib.pyplot as plt\n",
    "\n",
    "level = cv2.imread('images/SuperMarioBros2(J)-World2-2.png', cv2.IMREAD_)\n"
   ]
  },
  {
   "cell_type": "code",
   "execution_count": 3,
   "metadata": {},
   "outputs": [
    {
     "name": "stdout",
     "output_type": "stream",
     "text": [
      "(240, 4128, 3)\n"
     ]
    }
   ],
   "source": [
    "print(level.shape)"
   ]
  },
  {
   "cell_type": "code",
   "execution_count": 4,
   "metadata": {},
   "outputs": [
    {
     "name": "stdout",
     "output_type": "stream",
     "text": [
      "258\n"
     ]
    }
   ],
   "source": [
    "height, width, _ = level.shape\n",
    "\n",
    "M = height\n",
    "N = 16\n",
    "\n",
    "\n",
    "tiles = [level[x:x+M,y:y+N,:] for x in range(0,height,M) for y in range(0,width,N)]\n",
    "print(len(tiles))"
   ]
  },
  {
   "cell_type": "code",
   "execution_count": 5,
   "metadata": {},
   "outputs": [
    {
     "data": {
      "text/plain": [
       "129"
      ]
     },
     "execution_count": 5,
     "metadata": {},
     "output_type": "execute_result"
    }
   ],
   "source": [
    "def pHash(cv_image):\n",
    "        imgg = cv2.cvtColor(cv_image, cv2.COLOR_BGR2GRAY);\n",
    "        h=cv2.img_hash.pHash(imgg) # 8-byte hash\n",
    "        pH=int.from_bytes(h.tobytes(), byteorder='big', signed=False)\n",
    "        return pH\n",
    "\n",
    "hashed_tiles = [pHash(tile) for tile in tiles]\n",
    "\n",
    "unique_hashes = list(dict.fromkeys(hashed_tiles))\n",
    "\n",
    "\n",
    "hash_int_dict = dict([(unique_hashes[i], i) for i in range(len(unique_hashes))])\n",
    "hash_tile_dict = dict(zip(hashed_tiles, tiles))\n",
    "int_tile_dict = dict([(hash_int_dict[i], hash_tile_dict[i]) for i in unique_hashes])\n",
    "len(unique_hashes)\n"
   ]
  },
  {
   "cell_type": "code",
   "execution_count": null,
   "metadata": {},
   "outputs": [],
   "source": []
  },
  {
   "cell_type": "code",
   "execution_count": 6,
   "metadata": {},
   "outputs": [
    {
     "name": "stdout",
     "output_type": "stream",
     "text": [
      "258\n"
     ]
    }
   ],
   "source": [
    "N = 2\n",
    "\n",
    "hash_to_int = [hash_int_dict.get(item,item)  for item in hashed_tiles]\n",
    "gram = [(hash_to_int*2)[i: i + N] for i in range(len(hash_to_int))]\n",
    "print(len(gram))"
   ]
  },
  {
   "cell_type": "code",
   "execution_count": 7,
   "metadata": {},
   "outputs": [
    {
     "name": "stdout",
     "output_type": "stream",
     "text": [
      "{0: [1, 32, 0, 118], 1: [2], 2: [2, 3, 6, 8, 12, 14, 26, 36, 43, 16, 47, 64, 25, 79, 83, 86, 104, 105, 107, 113], 3: [4, 20, 101], 4: [5, 61, 67, 109], 5: [2, 92], 6: [7], 7: [2], 8: [9, 42], 9: [10], 10: [11], 11: [2], 12: [13], 13: [14, 2], 14: [15, 19], 15: [16], 16: [17, 45], 17: [18], 18: [2], 19: [2], 20: [21], 21: [22], 22: [23], 23: [24], 24: [25], 25: [25, 2, 74], 26: [27, 30, 48, 26, 66, 2, 90, 97, 99], 27: [28, 17], 28: [29, 54], 29: [26], 30: [31, 47, 26], 31: [0], 32: [33, 32, 100], 33: [34], 34: [35], 35: [3], 36: [37], 37: [38, 77], 38: [39], 39: [40], 40: [41], 41: [42], 42: [11, 42, 127], 43: [44], 44: [2], 45: [46], 46: [2], 47: [26, 2, 3], 48: [49], 49: [50], 50: [51], 51: [52], 52: [53], 53: [30], 54: [55], 55: [56], 56: [57], 57: [58], 58: [58, 59], 59: [60], 60: [47], 61: [62], 62: [63], 63: [13], 64: [65], 65: [42], 66: [26], 67: [68], 68: [69], 69: [70], 70: [71], 71: [72, 88], 72: [73], 73: [2], 74: [75], 75: [76], 76: [37], 77: [78, 103], 78: [0], 79: [80], 80: [81], 81: [82], 82: [2], 83: [84, 8], 84: [85], 85: [83], 86: [87], 87: [71], 88: [89], 89: [30], 90: [91], 91: [5], 92: [93], 93: [94], 94: [95], 95: [96], 96: [2], 97: [98], 98: [29], 99: [32, 0], 100: [2], 101: [102], 102: [77], 103: [25], 104: [42], 105: [106], 106: [26], 107: [108], 108: [2], 109: [110], 110: [111], 111: [112], 112: [2], 113: [114], 114: [115], 115: [116], 116: [117], 117: [29], 118: [119], 119: [120], 120: [121], 121: [122], 122: [123], 123: [124], 124: [125], 125: [126], 126: [2], 127: [128], 128: [0]}\n"
     ]
    }
   ],
   "source": [
    "sequence = {}\n",
    "for pair in gram:\n",
    "    if pair[0] not in sequence:\n",
    "        sequence[pair[0]] = [pair[1]]\n",
    "    elif pair[1] not in sequence[pair[0]]:\n",
    "        sequence[pair[0]].append(pair[1])\n",
    "\n",
    "\n",
    "print(sequence)"
   ]
  },
  {
   "cell_type": "code",
   "execution_count": 8,
   "metadata": {},
   "outputs": [],
   "source": [
    "from numpy.random import randint, choice\n",
    "def propagation(seq, starting_tile=None, size=10) -> list:\n",
    "    level = []\n",
    "    if starting_tile == None:\n",
    "        starting_tile = randint(low=0, high=list(seq.keys())[-1])\n",
    "    level.append(starting_tile)\n",
    "    current_tile = starting_tile\n",
    "    for i in range(size):\n",
    "        next_tile = choice(seq[current_tile])\n",
    "        level.append(next_tile)\n",
    "        current_tile=next_tile\n",
    "    return(level)\n",
    "    "
   ]
  },
  {
   "cell_type": "code",
   "execution_count": 9,
   "metadata": {},
   "outputs": [],
   "source": [
    "level_made = propagation(sequence, starting_tile=0, size=200)\n",
    "\n",
    "level_to_tiles = [int_tile_dict[i] for i in level_made]"
   ]
  },
  {
   "cell_type": "code",
   "execution_count": 10,
   "metadata": {},
   "outputs": [],
   "source": [
    "compiled_level = cv2.hconcat(level_to_tiles)"
   ]
  },
  {
   "cell_type": "code",
   "execution_count": 11,
   "metadata": {},
   "outputs": [],
   "source": [
    "cv2.imshow(\"fixed\", compiled_level)\n",
    "\n",
    "cv2.waitKey(0)\n",
    "cv2.destroyAllWindows()"
   ]
  },
  {
   "cell_type": "code",
   "execution_count": null,
   "metadata": {},
   "outputs": [],
   "source": []
  }
 ],
 "metadata": {
  "kernelspec": {
   "display_name": "torch",
   "language": "python",
   "name": "python3"
  },
  "language_info": {
   "codemirror_mode": {
    "name": "ipython",
    "version": 3
   },
   "file_extension": ".py",
   "mimetype": "text/x-python",
   "name": "python",
   "nbconvert_exporter": "python",
   "pygments_lexer": "ipython3",
   "version": "3.10.9"
  },
  "orig_nbformat": 4
 },
 "nbformat": 4,
 "nbformat_minor": 2
}
